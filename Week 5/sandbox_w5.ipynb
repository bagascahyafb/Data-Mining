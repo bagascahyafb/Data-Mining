{
 "cells": [
  {
   "cell_type": "code",
   "execution_count": 1,
   "metadata": {},
   "outputs": [],
   "source": [
    "from sklearn.datasets import load_iris\n",
    "from sklearn.model_selection import train_test_split,cross_val_score,KFold,StratifiedKFold,LeaveOneOut,LeavePOut,ShuffleSplit\n",
    "from sklearn.ensemble import RandomForestClassifier\n",
    "from sklearn.linear_model import LogisticRegression\n",
    "from sklearn.metrics import  accuracy_score"
   ]
  },
  {
   "cell_type": "markdown",
   "metadata": {},
   "source": [
    "LOAD DATA"
   ]
  },
  {
   "cell_type": "code",
   "execution_count": 2,
   "metadata": {},
   "outputs": [
    {
     "name": "stdout",
     "output_type": "stream",
     "text": [
      "Size  Dataset: 24\n"
     ]
    }
   ],
   "source": [
    "import random\n",
    "li = random.sample(range(10,130), 24)\n",
    "\n",
    "iris = load_iris()\n",
    "X = iris.data[li]\n",
    "Y = iris.target[li]\n",
    "\n",
    "print('Size  Dataset: {}'.format(len(X)))"
   ]
  },
  {
   "cell_type": "code",
   "execution_count": 3,
   "metadata": {},
   "outputs": [],
   "source": [
    "logreg = LogisticRegression()"
   ]
  },
  {
   "cell_type": "markdown",
   "metadata": {},
   "source": [
    "HOLD OUT CROSS VALIDATION atau TRAIN-TEST SPLIT"
   ]
  },
  {
   "cell_type": "code",
   "execution_count": 4,
   "metadata": {},
   "outputs": [],
   "source": [
    "x_train, x_test, y_train, y_test = train_test_split(X, Y, test_size=0.3, random_state=42)\n",
    "logreg.fit(x_train, y_train)\n",
    "\n",
    "predict = logreg.predict(x_test)"
   ]
  },
  {
   "cell_type": "code",
   "execution_count": 5,
   "metadata": {},
   "outputs": [
    {
     "name": "stdout",
     "output_type": "stream",
     "text": [
      "Accuracy training set: 0.875\n",
      "Accuracy test set: 1.0\n"
     ]
    }
   ],
   "source": [
    "print(\"Accuracy training set: {}\".format(accuracy_score(logreg.predict(x_train),y_train)))\n",
    "print(\"Accuracy test set: {}\".format(accuracy_score(predict,y_test)))"
   ]
  },
  {
   "cell_type": "markdown",
   "metadata": {},
   "source": [
    "K_FOLD CROSS VALIDATION"
   ]
  },
  {
   "cell_type": "code",
   "execution_count": 6,
   "metadata": {},
   "outputs": [],
   "source": [
    "kf = KFold(n_splits=10)\n",
    "score = cross_val_score(logreg,X,Y,cv=kf)"
   ]
  },
  {
   "cell_type": "code",
   "execution_count": 7,
   "metadata": {},
   "outputs": [
    {
     "name": "stdout",
     "output_type": "stream",
     "text": [
      "Cross Valdation Score: [0.66666667 0.33333333 1.         1.         1.         1.\n",
      " 1.         1.         1.         1.        ]\n",
      "Average Cross Validation Score: 0.9\n"
     ]
    }
   ],
   "source": [
    "print(\"Cross Valdation Score: {}\".format(score))\n",
    "print(\"Average Cross Validation Score: {}\".format(score.mean()))"
   ]
  },
  {
   "cell_type": "markdown",
   "metadata": {},
   "source": [
    "STRATIFIED CROSS VALDATION"
   ]
  },
  {
   "cell_type": "code",
   "execution_count": 8,
   "metadata": {},
   "outputs": [
    {
     "name": "stdout",
     "output_type": "stream",
     "text": [
      "Stratified Cross Validation Score [0.8 0.8 1.  1.  1. ]\n",
      "Average Stratified Cross Validation Score 0.9199999999999999\n"
     ]
    }
   ],
   "source": [
    "SFK = StratifiedKFold(n_splits=5)\n",
    "score = cross_val_score(logreg, X, Y, cv=SFK)\n",
    "print(\"Stratified Cross Validation Score {}\".format(score))\n",
    "print(\"Average Stratified Cross Validation Score {}\".format(score.mean()))"
   ]
  },
  {
   "cell_type": "markdown",
   "metadata": {},
   "source": [
    "LEAVE P OUT CROSS VALIDATION"
   ]
  },
  {
   "cell_type": "code",
   "execution_count": 9,
   "metadata": {},
   "outputs": [],
   "source": [
    "lpo = LeavePOut(p=2)\n",
    "\n",
    "lpo.get_n_splits(X)\n",
    "\n",
    "tree = RandomForestClassifier(n_estimators=10, max_depth=5, n_jobs=1)\n",
    "\n",
    "score= cross_val_score(tree,X,Y,cv=lpo)"
   ]
  },
  {
   "cell_type": "code",
   "execution_count": 10,
   "metadata": {},
   "outputs": [
    {
     "name": "stdout",
     "output_type": "stream",
     "text": [
      "Cross Valdation Score: [1.  0.5 1.  0.5 1.  1.  1.  1.  1.  1.  1.  1.  1.  1.  1.  1.  1.  1.\n",
      " 1.  1.  1.  1.  1.  1.  1.  0.5 1.  1.  1.  1.  1.  1.  1.  1.  1.  1.\n",
      " 1.  1.  1.  0.5 1.  1.  1.  1.  1.  0.5 0.  1.  1.  1.  0.5 0.5 0.5 0.5\n",
      " 1.  0.5 1.  1.  0.5 0.5 0.5 1.  0.5 1.  1.  1.  0.5 1.  1.  1.  1.  1.\n",
      " 1.  1.  1.  1.  1.  0.5 1.  1.  1.  1.  1.  1.  1.  1.  0.5 0.5 0.5 0.5\n",
      " 0.5 0.5 0.5 0.5 0.5 0.5 0.5 0.5 0.5 0.  0.5 0.5 0.5 0.5 0.5 1.  1.  0.5\n",
      " 1.  1.  1.  1.  1.  1.  1.  1.  1.  0.5 1.  1.  1.  1.  1.  1.  1.  1.\n",
      " 1.  1.  1.  1.  0.5 1.  1.  1.  0.5 1.  1.  1.  1.  1.  1.  1.  1.  1.\n",
      " 1.  1.  1.  1.  1.  1.  0.5 1.  1.  1.  1.  1.  1.  1.  1.  1.  1.  1.\n",
      " 1.  1.  1.  0.5 1.  1.  1.  1.  1.  1.  1.  1.  1.  1.  1.  1.  1.  0.5\n",
      " 1.  1.  1.  1.  1.  1.  1.  1.  1.  1.  1.  1.  0.5 1.  1.  1.  1.  1.\n",
      " 1.  1.  1.  1.  1.  1.  0.5 1.  1.  1.  1.  1.  1.  1.  1.  1.  1.  0.5\n",
      " 1.  1.  1.  1.  1.  1.  1.  1.  1.  0.5 1.  1.  1.  1.  1.  1.  1.  1.\n",
      " 0.5 1.  1.  0.5 1.  1.  1.  1.  1.  1.  1.  1.  1.  1.  1.  0.5 1.  1.\n",
      " 1.  1.  1.  0.5 1.  1.  1.  1.  1.  0.5 1.  0.5 0.5 0.5 1.  1.  1.  1.\n",
      " 1.  1.  1.  1.  1.  1. ]\n",
      "Average Cross Validation Score: 0.8967391304347826\n"
     ]
    }
   ],
   "source": [
    "print(\"Cross Valdation Score: {}\".format(score))\n",
    "print(\"Average Cross Validation Score: {}\".format(score.mean()))"
   ]
  },
  {
   "cell_type": "markdown",
   "metadata": {},
   "source": [
    "LEAVE ONE OUT CROSS VALIDATION"
   ]
  },
  {
   "cell_type": "code",
   "execution_count": 11,
   "metadata": {},
   "outputs": [],
   "source": [
    "loo = LeaveOneOut()\n",
    "\n",
    "loo.get_n_splits(X)\n",
    "\n",
    "tree = RandomForestClassifier(n_estimators=10, max_depth=5, n_jobs=1)\n",
    "\n",
    "score= cross_val_score(tree,X,Y,cv=loo)"
   ]
  },
  {
   "cell_type": "code",
   "execution_count": 12,
   "metadata": {},
   "outputs": [
    {
     "name": "stdout",
     "output_type": "stream",
     "text": [
      "Cross Valdation Score: [1. 1. 1. 1. 0. 1. 1. 1. 1. 1. 1. 1. 1. 1. 1. 1. 1. 1. 1. 1. 1. 1. 1. 1.]\n",
      "Average Cross Validation Score: 0.9583333333333334\n"
     ]
    }
   ],
   "source": [
    "print(\"Cross Valdation Score: {}\".format(score))\n",
    "print(\"Average Cross Validation Score: {}\".format(score.mean()))"
   ]
  },
  {
   "cell_type": "markdown",
   "metadata": {},
   "source": [
    "MONTECARLO CROSS VALIDATION (SHUFFLE SPLIT)"
   ]
  },
  {
   "cell_type": "code",
   "execution_count": 60,
   "metadata": {},
   "outputs": [],
   "source": [
    "mc = ShuffleSplit(test_size=0.3, train_size=0.5, n_splits=10)\n",
    "\n",
    "score= cross_val_score(logreg, iris.data[li], iris.target[li],cv=mc)"
   ]
  },
  {
   "cell_type": "code",
   "execution_count": 61,
   "metadata": {},
   "outputs": [
    {
     "name": "stdout",
     "output_type": "stream",
     "text": [
      "Cross Valdation Score: [0.875 0.625 1.    1.    0.625 0.875 0.875 0.75  0.625 1.   ]\n",
      "Average Cross Validation Score: 0.825\n"
     ]
    }
   ],
   "source": [
    "print(\"Cross Valdation Score: {}\".format(score))\n",
    "print(\"Average Cross Validation Score: {}\".format(score.mean()))"
   ]
  },
  {
   "cell_type": "markdown",
   "metadata": {},
   "source": [
    "TIME SERIES CROSS VALIDATION"
   ]
  },
  {
   "cell_type": "code",
   "execution_count": 62,
   "metadata": {},
   "outputs": [
    {
     "name": "stdout",
     "output_type": "stream",
     "text": [
      "TimeSeriesSplit(gap=0, max_train_size=None, n_splits=5, test_size=None)\n"
     ]
    }
   ],
   "source": [
    "import numpy as np\n",
    "from sklearn.model_selection import TimeSeriesSplit\n",
    "\n",
    "x=np.array([[1,1],[1,2],[4,8],[7,3],[9,9],[0,2]])\n",
    "y=np.array([1,2,3,4,5,6])\n",
    "\n",
    "time_series = TimeSeriesSplit()\n",
    "\n",
    "print(time_series)"
   ]
  },
  {
   "cell_type": "code",
   "execution_count": 63,
   "metadata": {},
   "outputs": [
    {
     "name": "stdout",
     "output_type": "stream",
     "text": [
      "TRAIN [0] TEST [1]\n",
      "TRAIN [0 1] TEST [2]\n",
      "TRAIN [0 1 2] TEST [3]\n",
      "TRAIN [0 1 2 3] TEST [4]\n",
      "TRAIN [0 1 2 3 4] TEST [5]\n"
     ]
    }
   ],
   "source": [
    "for train_index, test_index in time_series.split(x):\n",
    "    print(\"TRAIN\",train_index,\"TEST\",test_index)\n",
    "    x_train, x_test = x[train_index], x[test_index]\n",
    "    y_train, y_test = y[train_index], y[test_index]"
   ]
  }
 ],
 "metadata": {
  "kernelspec": {
   "display_name": "Python 3",
   "language": "python",
   "name": "python3"
  },
  "language_info": {
   "codemirror_mode": {
    "name": "ipython",
    "version": 3
   },
   "file_extension": ".py",
   "mimetype": "text/x-python",
   "name": "python",
   "nbconvert_exporter": "python",
   "pygments_lexer": "ipython3",
   "version": "3.11.0"
  }
 },
 "nbformat": 4,
 "nbformat_minor": 2
}
